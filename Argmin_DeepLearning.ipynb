{
  "nbformat": 4,
  "nbformat_minor": 0,
  "metadata": {
    "colab": {
      "provenance": []
    },
    "kernelspec": {
      "name": "python3",
      "display_name": "Python 3"
    },
    "language_info": {
      "name": "python"
    }
  },
  "cells": [
    {
      "cell_type": "code",
      "execution_count": 1,
      "metadata": {
        "id": "c_gViMQcTfqj"
      },
      "outputs": [],
      "source": [
        "# import libraries\n",
        "import numpy as np\n",
        "import torch"
      ]
    },
    {
      "cell_type": "code",
      "source": [
        "# create a vector\n",
        "v = np.array([ 1,40,2,-3 ])\n",
        "\n",
        "# find and report the maximum and minimum values\n",
        "minval = np.min(v)\n",
        "maxval = np.max(v)\n",
        "\n",
        "print('Min,max: %g,%g' %(minval,maxval) )\n",
        "\n",
        "\n",
        "# now for the argmin/max\n",
        "minidx = np.argmin(v)\n",
        "maxidx = np.argmax(v)\n",
        "\n",
        "print('Min,max indices: %g,%g' %(minidx,maxidx) ), print(' ')\n",
        "\n",
        "# confirm\n",
        "print(f'Min val is { v[minidx] }, max val is { v[maxidx] }')"
      ],
      "metadata": {
        "colab": {
          "base_uri": "https://localhost:8080/"
        },
        "id": "582F7UkwUyz7",
        "outputId": "c6e0c4ff-1576-4442-c491-a3053b0fe86c"
      },
      "execution_count": 2,
      "outputs": [
        {
          "output_type": "stream",
          "name": "stdout",
          "text": [
            "Min,max: -3,40\n",
            "Min,max indices: 3,1\n",
            " \n",
            "Min val is -3, max val is 40\n"
          ]
        }
      ]
    },
    {
      "cell_type": "code",
      "source": [
        "# repeat with matrix\n",
        "M = np.array([ [0,1,10], [20,8,5] ])\n",
        "print(M), print(' ')\n",
        "\n",
        "# various minima in this matrix!\n",
        "minvals1 = np.min(M)        # minimum from ENTIRE matrix\n",
        "minvals2 = np.min(M,axis=0) # minimum of each column (across rows)\n",
        "minvals3 = np.min(M,axis=1) # minimum of each row (across columns)\n",
        "\n",
        "# print them out\n",
        "print(minvals1)\n",
        "print(minvals2)\n",
        "print(minvals3)"
      ],
      "metadata": {
        "colab": {
          "base_uri": "https://localhost:8080/"
        },
        "id": "LaQKNJVRU5u2",
        "outputId": "e833ec5c-0118-468f-e5d6-a074b98932c3"
      },
      "execution_count": 3,
      "outputs": [
        {
          "output_type": "stream",
          "name": "stdout",
          "text": [
            "[[ 0  1 10]\n",
            " [20  8  5]]\n",
            " \n",
            "0\n",
            "[0 1 5]\n",
            "[0 5]\n"
          ]
        }
      ]
    },
    {
      "cell_type": "code",
      "source": [
        "# create a vector\n",
        "v = torch.tensor([ 1,40,2,-3 ])\n",
        "\n",
        "# find and report the maximum and minimum values\n",
        "minval = torch.min(v)\n",
        "maxval = torch.max(v)\n",
        "\n",
        "print('Min,max: %g,%g' %(minval,maxval) )\n",
        "\n",
        "\n",
        "# now for the argmin/max\n",
        "minidx = torch.argmin(v)\n",
        "maxidx = torch.argmax(v)\n",
        "\n",
        "print('Min,max indices: %g,%g' %(minidx,maxidx) ), print(' ')\n",
        "\n",
        "# confirm\n",
        "print(f'Min val is { v[minidx] }, max val is { v[maxidx] }')"
      ],
      "metadata": {
        "colab": {
          "base_uri": "https://localhost:8080/"
        },
        "id": "omgQenebVCjc",
        "outputId": "773e1ec7-1c7b-4755-a394-5abdfb88a1f7"
      },
      "execution_count": 4,
      "outputs": [
        {
          "output_type": "stream",
          "name": "stdout",
          "text": [
            "Min,max: -3,40\n",
            "Min,max indices: 3,1\n",
            " \n",
            "Min val is -3, max val is 40\n"
          ]
        }
      ]
    }
  ]
}