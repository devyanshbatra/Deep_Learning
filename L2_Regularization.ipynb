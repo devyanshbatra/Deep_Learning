{
  "nbformat": 4,
  "nbformat_minor": 0,
  "metadata": {
    "colab": {
      "provenance": []
    },
    "kernelspec": {
      "name": "python3",
      "display_name": "Python 3"
    },
    "language_info": {
      "name": "python"
    }
  },
  "cells": [
    {
      "cell_type": "code",
      "execution_count": 2,
      "metadata": {
        "id": "A9A5wAEr4-jB"
      },
      "outputs": [],
      "source": [
        "import torch\n",
        "import torch.nn as nn\n",
        "import numpy as np\n",
        "import matplotlib.pyplot as plt\n",
        "from sklearn.model_selection import train_test_split\n",
        "from torch.utils.data import DataLoader"
      ]
    },
    {
      "cell_type": "code",
      "source": [
        "import pandas as pd\n",
        "iris = pd.read_csv('https://raw.githubusercontent.com/mwaskom/seaborn-data/master/iris.csv')"
      ],
      "metadata": {
        "id": "EPTaIUDgVPCd"
      },
      "execution_count": 3,
      "outputs": []
    },
    {
      "cell_type": "code",
      "source": [
        "data = torch.tensor( iris[iris.columns[0:4]].values ).float()\n",
        "labels = torch.zeros(len(data), dtype=torch.long)\n",
        "labels[iris.species=='versicolor'] = 1\n",
        "labels[iris.species=='virginica']  = 2"
      ],
      "metadata": {
        "id": "duqrkr3iVTb3"
      },
      "execution_count": 4,
      "outputs": []
    },
    {
      "cell_type": "code",
      "source": [
        "train_data,test_data, train_labels,test_labels = train_test_split(data, labels, test_size=.2)\n",
        "train_dataDataset = torch.utils.data.TensorDataset(train_data,train_labels)\n",
        "test_dataDataset  = torch.utils.data.TensorDataset(test_data,test_labels)\n",
        "train_loader = DataLoader(train_dataDataset,batch_size=64, shuffle=True, drop_last=True)\n",
        "test_loader  = DataLoader(test_dataDataset,batch_size=test_dataDataset.tensors[0].shape[0])"
      ],
      "metadata": {
        "id": "A3f8SQW-bvN3"
      },
      "execution_count": 5,
      "outputs": []
    },
    {
      "cell_type": "code",
      "source": [
        "def createANewModel(L2lambda):\n",
        "  ANNiris = nn.Sequential(\n",
        "      nn.Linear(4,64),\n",
        "      nn.ReLU(),\n",
        "      nn.Linear(64,64),\n",
        "      nn.ReLU(),\n",
        "      nn.Linear(64,3),\n",
        "        )\n",
        "  lossfun = nn.CrossEntropyLoss()\n",
        "  optimizer = torch.optim.SGD(ANNiris.parameters(),lr=.005,weight_decay=L2lambda)\n",
        "  return ANNiris,lossfun,optimizer"
      ],
      "metadata": {
        "id": "yo1WlbbfbxcB"
      },
      "execution_count": 6,
      "outputs": []
    },
    {
      "cell_type": "code",
      "source": [
        "numepochs = 1000\n",
        "def trainTheModel():\n",
        "  trainAcc = []\n",
        "  testAcc  = []\n",
        "  losses   = []"
      ],
      "metadata": {
        "id": "tC62P6i3cGhq"
      },
      "execution_count": 7,
      "outputs": []
    },
    {
      "cell_type": "code",
      "source": [
        "numepochs = 1000\n",
        "def trainTheModel():\n",
        "\n",
        "  trainAcc = []\n",
        "  testAcc  = []\n",
        "  losses   = []\n",
        "\n",
        "  for epochi in range(numepochs):\n",
        "    batchAcc  = []\n",
        "    batchLoss = []\n",
        "\n",
        "    for X,y in train_loader:\n",
        "      yHat = ANNiris(X)\n",
        "      loss = lossfun(yHat,y)\n",
        "      optimizer.zero_grad()\n",
        "      loss.backward()\n",
        "      optimizer.step()\n",
        "\n",
        "      batchAcc.append( 100*torch.mean((torch.argmax(yHat,axis=1) == y).float()).item() )\n",
        "      batchLoss.append( loss.item() )\n",
        "\n",
        "    trainAcc.append( np.mean(batchAcc) )\n",
        "    losses.append( np.mean(batchLoss) )\n",
        "\n",
        "    ANNiris.eval()\n",
        "    X,y = next(iter(test_loader))\n",
        "    predlabels = torch.argmax( ANNiris(X),axis=1 )\n",
        "\n",
        "    testAcc.append( 100*torch.mean((predlabels == y).float()).item() )\n",
        "    ANNiris.train()\n",
        "  return trainAcc,testAcc,losses\n"
      ],
      "metadata": {
        "id": "D-7VtC_sco2B"
      },
      "execution_count": 11,
      "outputs": []
    },
    {
      "cell_type": "code",
      "source": [
        "L2lambda = .01\n",
        "ANNiris,lossfun,optimizer = createANewModel(L2lambda)\n",
        "\n",
        "# train the model\n",
        "trainAcc,testAcc,losses = trainTheModel()"
      ],
      "metadata": {
        "id": "GtfgrqMDdFOp"
      },
      "execution_count": 12,
      "outputs": []
    }
  ]
}