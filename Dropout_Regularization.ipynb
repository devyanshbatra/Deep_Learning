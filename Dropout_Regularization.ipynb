{
  "nbformat": 4,
  "nbformat_minor": 0,
  "metadata": {
    "colab": {
      "provenance": []
    },
    "kernelspec": {
      "name": "python3",
      "display_name": "Python 3"
    },
    "language_info": {
      "name": "python"
    }
  },
  "cells": [
    {
      "cell_type": "code",
      "source": [
        "# import libraries\n",
        "import torch\n",
        "import torch.nn as nn\n",
        "import torch.nn.functional as F\n",
        "\n",
        "import numpy as np\n",
        "import matplotlib.pyplot as plt\n",
        "import matplotlib_inline.backend_inline\n",
        "matplotlib_inline.backend_inline.set_matplotlib_formats('svg')\n",
        "\n",
        "from sklearn.model_selection import train_test_split\n",
        "from torch.utils.data import DataLoader,TensorDataset"
      ],
      "metadata": {
        "id": "y3wWcJ_cpVw2"
      },
      "execution_count": 2,
      "outputs": []
    },
    {
      "cell_type": "code",
      "source": [
        "nPerClust = 200\n",
        "\n",
        "th = np.linspace(0,4*np.pi,nPerClust)\n",
        "r1 = 10\n",
        "r2 = 15\n",
        "\n",
        "a = [ r1*np.cos(th) + np.random.randn(nPerClust)*3 ,\n",
        "      r1*np.sin(th) + np.random.randn(nPerClust) ]\n",
        "b = [ r2*np.cos(th) + np.random.randn(nPerClust) ,\n",
        "      r2*np.sin(th) + np.random.randn(nPerClust)*3 ]\n",
        "\n",
        "labels_np = np.vstack((np.zeros((nPerClust,1)),np.ones((nPerClust,1))))\n",
        "\n",
        "data_np = np.hstack((a,b)).T\n",
        "\n",
        "data = torch.tensor(data_np).float()\n",
        "labels = torch.tensor(labels_np).float()"
      ],
      "metadata": {
        "id": "2_EZaboIRFWI"
      },
      "execution_count": 3,
      "outputs": []
    },
    {
      "cell_type": "code",
      "source": [
        "train_data,test_data, train_labels,test_labels = train_test_split(data, labels, test_size=.2)"
      ],
      "metadata": {
        "id": "ZTjbYG5LS7bZ"
      },
      "execution_count": 4,
      "outputs": []
    },
    {
      "cell_type": "code",
      "source": [
        "train_data = TensorDataset(train_data,train_labels)\n",
        "test_data  = TensorDataset(test_data,test_labels)\n"
      ],
      "metadata": {
        "id": "U0wAwd53WFpP"
      },
      "execution_count": 5,
      "outputs": []
    },
    {
      "cell_type": "code",
      "source": [
        "batchsize    = 16\n",
        "train_loader = DataLoader(train_data,batch_size=batchsize,shuffle=True)\n",
        "test_loader  = DataLoader(test_data,batch_size=test_data.tensors[0].shape[0])"
      ],
      "metadata": {
        "id": "WCZ5m97aWOdx"
      },
      "execution_count": 6,
      "outputs": []
    },
    {
      "cell_type": "code",
      "source": [
        "class theModelClass(nn.Module):\n",
        "  def __init__(self,dropoutRate):\n",
        "    super().__init__()\n",
        "\n",
        "    ### layers\n",
        "    self.input  = nn.Linear(  2,128)\n",
        "    self.hidden = nn.Linear(128,128)\n",
        "    self.output = nn.Linear(128, 1)\n",
        "\n",
        "    # parameters\n",
        "    self.dr = dropoutRate\n",
        "\n",
        "  # forward pass\n",
        "  def forward(self,x):\n",
        "\n",
        "    # pass the data through the input layer\n",
        "    x = F.relu( self.input(x) )\n",
        "\n",
        "    # dropout after input layer\n",
        "    x = F.dropout(x,p=self.dr,training=self.training) # training=self.training means to turn off during eval mode\n",
        "\n",
        "    # pass the data through the hidden layer\n",
        "    x = F.relu( self.hidden(x) )\n",
        "\n",
        "    # dropout after hidden layer\n",
        "    x = F.dropout(x,p=self.dr,training=self.training) # training=self.training means to turn off during eval mode\n",
        "\n",
        "    # output layer\n",
        "    x = self.output(x)\n",
        "    # no dropout here!!\n",
        "    return x"
      ],
      "metadata": {
        "id": "qh1ODktNWghV"
      },
      "execution_count": 7,
      "outputs": []
    },
    {
      "cell_type": "code",
      "source": [
        "tmpnet = theModelClass(.25)\n",
        "\n",
        "# run some random data through\n",
        "tmpdata = torch.randn((10,2))\n",
        "yhat = tmpnet(tmpdata)\n",
        "yhat\n"
      ],
      "metadata": {
        "id": "1-Po_yRHWoZj",
        "outputId": "3a818126-20a6-411c-b2dc-1db6fd2b9fa6",
        "colab": {
          "base_uri": "https://localhost:8080/"
        }
      },
      "execution_count": 8,
      "outputs": [
        {
          "output_type": "execute_result",
          "data": {
            "text/plain": [
              "tensor([[-0.2494],\n",
              "        [-0.0780],\n",
              "        [ 0.0754],\n",
              "        [-0.1986],\n",
              "        [ 0.0574],\n",
              "        [-0.0841],\n",
              "        [ 0.0682],\n",
              "        [-0.0455],\n",
              "        [-0.0997],\n",
              "        [-0.0572]], grad_fn=<AddmmBackward0>)"
            ]
          },
          "metadata": {},
          "execution_count": 8
        }
      ]
    },
    {
      "cell_type": "code",
      "source": [
        "def createANewModel(dropoutrate):\n",
        "\n",
        "  # grab an instance of the model class\n",
        "  ANNQC = theModelClass(dropoutrate)\n",
        "\n",
        "  # loss function\n",
        "  lossfun = nn.BCEWithLogitsLoss()\n",
        "\n",
        "  # optimizer\n",
        "  optimizer = torch.optim.SGD(ANNQC.parameters(),lr=.002)\n",
        "\n",
        "  return ANNQC,lossfun,optimizer"
      ],
      "metadata": {
        "id": "1LckjiAuW2nt"
      },
      "execution_count": 1,
      "outputs": []
    },
    {
      "cell_type": "code",
      "source": [
        "# train the model\n",
        "\n",
        "# training parameter\n",
        "numepochs = 1000\n",
        "\n",
        "# NOTE: this time, the model, lossfun, and optimizer are inputs into the function!\n",
        "def trainTheModel(ANNQC,lossfun,optimizer):\n",
        "\n",
        "  # initialize accuracies as empties (not storing losses here)\n",
        "  trainAcc = []\n",
        "  testAcc  = []\n",
        "\n",
        "\n",
        "  # loop over epochs\n",
        "  for epochi in range(numepochs):\n",
        "\n",
        "    # switch training mode on (is this the right place for this code??)\n",
        "    ANNQC.train()\n",
        "\n",
        "    # loop over training data batches\n",
        "    batchAcc = []\n",
        "    for X,y in train_loader:\n",
        "\n",
        "      # forward pass and loss\n",
        "      yHat = ANNQC(X)\n",
        "      loss = lossfun(yHat,y)\n",
        "\n",
        "      # backprop\n",
        "      optimizer.zero_grad()\n",
        "      loss.backward()\n",
        "      optimizer.step()\n",
        "\n",
        "      # compute training accuracy just for this batch\n",
        "      batchAcc.append( 100*torch.mean(((yHat>0)==y).float()).item() )\n",
        "    # end of batch loop...\n",
        "\n",
        "    # now that we've trained through the batches, get their average training accuracy\n",
        "    trainAcc.append( np.mean(batchAcc) )\n",
        "\n",
        "    # test accuracy\n",
        "    ANNQC.eval() # switch training off\n",
        "    X,y = next(iter(test_loader)) # extract X,y from test dataloader\n",
        "    yHat = ANNQC(X)\n",
        "    testAcc.append( 100*torch.mean(((yHat>0)==y).float()).item() )\n",
        "\n",
        "  # function output\n",
        "  return trainAcc,testAcc\n"
      ],
      "metadata": {
        "id": "ZsIi_2tobvvj"
      },
      "execution_count": 9,
      "outputs": []
    },
    {
      "cell_type": "code",
      "source": [
        "# create a model\n",
        "dropoutrate = .0\n",
        "ANNQC,lossfun,optimizer = createANewModel(dropoutrate)\n",
        "\n",
        "# train the model (note the inputs!)\n",
        "trainAcc,testAcc = trainTheModel(ANNQC,lossfun,optimizer)\n",
        ""
      ],
      "metadata": {
        "id": "1cgVE2EYb6JI"
      },
      "execution_count": 10,
      "outputs": []
    },
    {
      "cell_type": "code",
      "source": [
        "def smooth(x,k=5):\n",
        "  return np.convolve(x,np.ones(k)/k,mode='same')\n",
        ""
      ],
      "metadata": {
        "id": "itdYS1Gkb87y"
      },
      "execution_count": 11,
      "outputs": []
    }
  ]
}