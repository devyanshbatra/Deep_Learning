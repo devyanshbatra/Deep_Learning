{
  "nbformat": 4,
  "nbformat_minor": 0,
  "metadata": {
    "colab": {
      "provenance": []
    },
    "kernelspec": {
      "name": "python3",
      "display_name": "Python 3"
    },
    "language_info": {
      "name": "python"
    }
  },
  "cells": [
    {
      "cell_type": "code",
      "execution_count": null,
      "metadata": {
        "id": "rVSZ3rKKTABv"
      },
      "outputs": [],
      "source": [
        "# import libraries\n",
        "import numpy as np\n",
        "import matplotlib.pyplot as plt\n",
        ""
      ]
    },
    {
      "cell_type": "code",
      "source": [
        "# probability of an event happening\n",
        "p = .25\n",
        "\n",
        "# NOT the correct formula!\n",
        "H = -( p*np.log(p) )\n",
        "print('Wrong entropy: ' + str(H))"
      ],
      "metadata": {
        "id": "BgPxDe7PTD_f"
      },
      "execution_count": null,
      "outputs": []
    },
    {
      "cell_type": "code",
      "source": [
        "# the correct way to compute entropy\n",
        "x = [.25,.75]\n",
        "\n",
        "H = 0\n",
        "for p in x:\n",
        "  H -= p*np.log(p)\n",
        "\n",
        "print('Correct entropy: ' + str(H))"
      ],
      "metadata": {
        "id": "7ieUro3mTHve"
      },
      "execution_count": null,
      "outputs": []
    },
    {
      "cell_type": "code",
      "source": [
        "# also correct, written out for N=2 events\n",
        "H = -( p*np.log(p) + (1-p)*np.log(1-p) )\n",
        "print('Correct entropy: ' + str(H))"
      ],
      "metadata": {
        "id": "gdHo_l6nTMo0"
      },
      "execution_count": null,
      "outputs": []
    },
    {
      "cell_type": "code",
      "source": [
        "# note: all probs must sum to 1!\n",
        "p = [   1,0   ] # sum=1\n",
        "q = [ .25,.75 ] # sum=1\n",
        "\n",
        "H = 0\n",
        "for i in range(len(p)):\n",
        "  H -= p[i]*np.log(q[i])\n",
        "\n",
        "print('Cross entropy: ' + str(H))"
      ],
      "metadata": {
        "id": "DTQswQ11TO1j"
      },
      "execution_count": null,
      "outputs": []
    },
    {
      "cell_type": "code",
      "source": [
        "# also correct, written out for N=2 events\n",
        "H = -( p[0]*np.log(q[0]) + p[1]*np.log(q[1]) )\n",
        "print('Correct entropy: ' + str(H))\n",
        "\n",
        "# simplification\n",
        "H = -np.log(q[0])\n",
        "print('Manually simplified: ' + str(H))"
      ],
      "metadata": {
        "id": "gNxMkYv7TQ-5"
      },
      "execution_count": null,
      "outputs": []
    },
    {
      "cell_type": "code",
      "source": [
        "# now using pytorch\n",
        "import torch\n",
        "import torch.nn.functional as F\n",
        "\n",
        "# note: inputs must be Tensors\n",
        "q_tensor = torch.Tensor(q)\n",
        "p_tensor = torch.Tensor(p)\n",
        "\n",
        "F.binary_cross_entropy(p,q)"
      ],
      "metadata": {
        "id": "D-vH3anSTU_v"
      },
      "execution_count": null,
      "outputs": []
    }
  ]
}